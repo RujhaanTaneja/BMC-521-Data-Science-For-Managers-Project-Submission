{
 "cells": [
  {
   "cell_type": "code",
   "execution_count": 1,
   "id": "47eb18a9",
   "metadata": {
    "_cell_guid": "b1076dfc-b9ad-4769-8c92-a6c4dae69d19",
    "_uuid": "8f2839f25d086af736a60e9eeb907d3b93b6e0e5",
    "execution": {
     "iopub.execute_input": "2025-04-25T22:37:03.103804Z",
     "iopub.status.busy": "2025-04-25T22:37:03.103455Z",
     "iopub.status.idle": "2025-04-25T22:37:06.766508Z",
     "shell.execute_reply": "2025-04-25T22:37:06.765362Z"
    },
    "papermill": {
     "duration": 3.672612,
     "end_time": "2025-04-25T22:37:06.768122",
     "exception": false,
     "start_time": "2025-04-25T22:37:03.095510",
     "status": "completed"
    },
    "tags": []
   },
   "outputs": [
    {
     "name": "stdout",
     "output_type": "stream",
     "text": [
      "/kaggle/input/processed-bmc-512-data/dataset_final/Y_test.csv\n",
      "/kaggle/input/processed-bmc-512-data/dataset_final/X_test.csv\n",
      "/kaggle/input/processed-bmc-512-data/dataset_final/Y_train.csv\n",
      "/kaggle/input/processed-bmc-512-data/dataset_final/X_train.csv\n",
      "/kaggle/input/processed-bmc-512-data/dataset_final/Y_cv.csv\n",
      "/kaggle/input/processed-bmc-512-data/dataset_final/X_cv.csv\n",
      "/kaggle/input/preprocessing_models/other/default/1/models_for_preprocessing/scaler.joblib\n",
      "/kaggle/input/preprocessing_models/other/default/1/models_for_preprocessing/pca.joblib\n",
      "/kaggle/input/preprocessing_models/other/default/1/models_for_preprocessing/tfidf_vectorizer.joblib\n"
     ]
    }
   ],
   "source": [
    "# This Python 3 environment comes with many helpful analytics libraries installed\n",
    "# It is defined by the kaggle/python Docker image: https://github.com/kaggle/docker-python\n",
    "# For example, here's several helpful packages to load\n",
    "\n",
    "import numpy as np # linear algebra\n",
    "import pandas as pd # data processing, CSV file I/O (e.g. pd.read_csv)\n",
    "from sklearn.linear_model import LogisticRegression\n",
    "from sklearn.metrics import accuracy_score, recall_score,precision_score,confusion_matrix\n",
    "import joblib\n",
    "from joblib import load\n",
    "from sklearn.metrics import confusion_matrix, ConfusionMatrixDisplay\n",
    "import matplotlib.pyplot as plt\n",
    "# Input data files are available in the read-only \"../input/\" directory\n",
    "# For example, running this (by clicking run or pressing Shift+Enter) will list all files under the input directory\n",
    "\n",
    "import os\n",
    "for dirname, _, filenames in os.walk('/kaggle/input'):\n",
    "    for filename in filenames:\n",
    "        print(os.path.join(dirname, filename))\n",
    "\n",
    "# You can write up to 20GB to the current directory (/kaggle/working/) that gets preserved as output when you create a version using \"Save & Run All\" \n",
    "# You can also write temporary files to /kaggle/temp/, but they won't be saved outside of the current session"
   ]
  },
  {
   "cell_type": "code",
   "execution_count": 2,
   "id": "bdcd400c",
   "metadata": {
    "execution": {
     "iopub.execute_input": "2025-04-25T22:37:06.783261Z",
     "iopub.status.busy": "2025-04-25T22:37:06.782797Z",
     "iopub.status.idle": "2025-04-25T22:37:06.811637Z",
     "shell.execute_reply": "2025-04-25T22:37:06.810800Z"
    },
    "papermill": {
     "duration": 0.0386,
     "end_time": "2025-04-25T22:37:06.813242",
     "exception": false,
     "start_time": "2025-04-25T22:37:06.774642",
     "status": "completed"
    },
    "tags": []
   },
   "outputs": [],
   "source": [
    "X_train=pd.read_csv('/kaggle/input/processed-bmc-512-data/dataset_final/X_train.csv')\n",
    "Y_train=pd.read_csv('/kaggle/input/processed-bmc-512-data/dataset_final/Y_train.csv')"
   ]
  },
  {
   "cell_type": "code",
   "execution_count": 3,
   "id": "a134a829",
   "metadata": {
    "execution": {
     "iopub.execute_input": "2025-04-25T22:37:06.826970Z",
     "iopub.status.busy": "2025-04-25T22:37:06.826620Z",
     "iopub.status.idle": "2025-04-25T22:37:06.839434Z",
     "shell.execute_reply": "2025-04-25T22:37:06.838522Z"
    },
    "papermill": {
     "duration": 0.021451,
     "end_time": "2025-04-25T22:37:06.841092",
     "exception": false,
     "start_time": "2025-04-25T22:37:06.819641",
     "status": "completed"
    },
    "tags": []
   },
   "outputs": [],
   "source": [
    "X_cv=pd.read_csv('/kaggle/input/processed-bmc-512-data/dataset_final/X_cv.csv')\n",
    "Y_cv=pd.read_csv('/kaggle/input/processed-bmc-512-data/dataset_final/Y_cv.csv')"
   ]
  },
  {
   "cell_type": "code",
   "execution_count": 4,
   "id": "7b7de568",
   "metadata": {
    "execution": {
     "iopub.execute_input": "2025-04-25T22:37:06.854395Z",
     "iopub.status.busy": "2025-04-25T22:37:06.854097Z",
     "iopub.status.idle": "2025-04-25T22:37:06.867369Z",
     "shell.execute_reply": "2025-04-25T22:37:06.866481Z"
    },
    "papermill": {
     "duration": 0.02185,
     "end_time": "2025-04-25T22:37:06.869100",
     "exception": false,
     "start_time": "2025-04-25T22:37:06.847250",
     "status": "completed"
    },
    "tags": []
   },
   "outputs": [],
   "source": [
    "X_test=pd.read_csv('/kaggle/input/processed-bmc-512-data/dataset_final/X_test.csv')\n",
    "Y_test=pd.read_csv('/kaggle/input/processed-bmc-512-data/dataset_final/Y_test.csv')"
   ]
  },
  {
   "cell_type": "code",
   "execution_count": 5,
   "id": "1c01bc6f",
   "metadata": {
    "execution": {
     "iopub.execute_input": "2025-04-25T22:37:06.882852Z",
     "iopub.status.busy": "2025-04-25T22:37:06.882282Z",
     "iopub.status.idle": "2025-04-25T22:37:06.886772Z",
     "shell.execute_reply": "2025-04-25T22:37:06.885894Z"
    },
    "papermill": {
     "duration": 0.012811,
     "end_time": "2025-04-25T22:37:06.888147",
     "exception": false,
     "start_time": "2025-04-25T22:37:06.875336",
     "status": "completed"
    },
    "tags": []
   },
   "outputs": [],
   "source": [
    "params={\n",
    "    'random_state':69,\n",
    "    'max_iter': 100,\n",
    "    'solver':'liblinear',\n",
    "    'penalty':'l1',\n",
    "}"
   ]
  },
  {
   "cell_type": "code",
   "execution_count": 6,
   "id": "6d3c64a0",
   "metadata": {
    "execution": {
     "iopub.execute_input": "2025-04-25T22:37:06.901584Z",
     "iopub.status.busy": "2025-04-25T22:37:06.901255Z",
     "iopub.status.idle": "2025-04-25T22:37:06.905424Z",
     "shell.execute_reply": "2025-04-25T22:37:06.904723Z"
    },
    "papermill": {
     "duration": 0.012377,
     "end_time": "2025-04-25T22:37:06.906652",
     "exception": false,
     "start_time": "2025-04-25T22:37:06.894275",
     "status": "completed"
    },
    "tags": []
   },
   "outputs": [],
   "source": [
    "model=LogisticRegression(**params)"
   ]
  },
  {
   "cell_type": "code",
   "execution_count": 7,
   "id": "1eda2a72",
   "metadata": {
    "execution": {
     "iopub.execute_input": "2025-04-25T22:37:06.920342Z",
     "iopub.status.busy": "2025-04-25T22:37:06.919549Z",
     "iopub.status.idle": "2025-04-25T22:37:06.948612Z",
     "shell.execute_reply": "2025-04-25T22:37:06.947597Z"
    },
    "papermill": {
     "duration": 0.037393,
     "end_time": "2025-04-25T22:37:06.950225",
     "exception": false,
     "start_time": "2025-04-25T22:37:06.912832",
     "status": "completed"
    },
    "tags": []
   },
   "outputs": [
    {
     "name": "stderr",
     "output_type": "stream",
     "text": [
      "/usr/local/lib/python3.11/dist-packages/sklearn/utils/validation.py:1143: DataConversionWarning: A column-vector y was passed when a 1d array was expected. Please change the shape of y to (n_samples, ), for example using ravel().\n",
      "  y = column_or_1d(y, warn=True)\n"
     ]
    },
    {
     "data": {
      "text/html": [
       "<style>#sk-container-id-1 {color: black;background-color: white;}#sk-container-id-1 pre{padding: 0;}#sk-container-id-1 div.sk-toggleable {background-color: white;}#sk-container-id-1 label.sk-toggleable__label {cursor: pointer;display: block;width: 100%;margin-bottom: 0;padding: 0.3em;box-sizing: border-box;text-align: center;}#sk-container-id-1 label.sk-toggleable__label-arrow:before {content: \"▸\";float: left;margin-right: 0.25em;color: #696969;}#sk-container-id-1 label.sk-toggleable__label-arrow:hover:before {color: black;}#sk-container-id-1 div.sk-estimator:hover label.sk-toggleable__label-arrow:before {color: black;}#sk-container-id-1 div.sk-toggleable__content {max-height: 0;max-width: 0;overflow: hidden;text-align: left;background-color: #f0f8ff;}#sk-container-id-1 div.sk-toggleable__content pre {margin: 0.2em;color: black;border-radius: 0.25em;background-color: #f0f8ff;}#sk-container-id-1 input.sk-toggleable__control:checked~div.sk-toggleable__content {max-height: 200px;max-width: 100%;overflow: auto;}#sk-container-id-1 input.sk-toggleable__control:checked~label.sk-toggleable__label-arrow:before {content: \"▾\";}#sk-container-id-1 div.sk-estimator input.sk-toggleable__control:checked~label.sk-toggleable__label {background-color: #d4ebff;}#sk-container-id-1 div.sk-label input.sk-toggleable__control:checked~label.sk-toggleable__label {background-color: #d4ebff;}#sk-container-id-1 input.sk-hidden--visually {border: 0;clip: rect(1px 1px 1px 1px);clip: rect(1px, 1px, 1px, 1px);height: 1px;margin: -1px;overflow: hidden;padding: 0;position: absolute;width: 1px;}#sk-container-id-1 div.sk-estimator {font-family: monospace;background-color: #f0f8ff;border: 1px dotted black;border-radius: 0.25em;box-sizing: border-box;margin-bottom: 0.5em;}#sk-container-id-1 div.sk-estimator:hover {background-color: #d4ebff;}#sk-container-id-1 div.sk-parallel-item::after {content: \"\";width: 100%;border-bottom: 1px solid gray;flex-grow: 1;}#sk-container-id-1 div.sk-label:hover label.sk-toggleable__label {background-color: #d4ebff;}#sk-container-id-1 div.sk-serial::before {content: \"\";position: absolute;border-left: 1px solid gray;box-sizing: border-box;top: 0;bottom: 0;left: 50%;z-index: 0;}#sk-container-id-1 div.sk-serial {display: flex;flex-direction: column;align-items: center;background-color: white;padding-right: 0.2em;padding-left: 0.2em;position: relative;}#sk-container-id-1 div.sk-item {position: relative;z-index: 1;}#sk-container-id-1 div.sk-parallel {display: flex;align-items: stretch;justify-content: center;background-color: white;position: relative;}#sk-container-id-1 div.sk-item::before, #sk-container-id-1 div.sk-parallel-item::before {content: \"\";position: absolute;border-left: 1px solid gray;box-sizing: border-box;top: 0;bottom: 0;left: 50%;z-index: -1;}#sk-container-id-1 div.sk-parallel-item {display: flex;flex-direction: column;z-index: 1;position: relative;background-color: white;}#sk-container-id-1 div.sk-parallel-item:first-child::after {align-self: flex-end;width: 50%;}#sk-container-id-1 div.sk-parallel-item:last-child::after {align-self: flex-start;width: 50%;}#sk-container-id-1 div.sk-parallel-item:only-child::after {width: 0;}#sk-container-id-1 div.sk-dashed-wrapped {border: 1px dashed gray;margin: 0 0.4em 0.5em 0.4em;box-sizing: border-box;padding-bottom: 0.4em;background-color: white;}#sk-container-id-1 div.sk-label label {font-family: monospace;font-weight: bold;display: inline-block;line-height: 1.2em;}#sk-container-id-1 div.sk-label-container {text-align: center;}#sk-container-id-1 div.sk-container {/* jupyter's `normalize.less` sets `[hidden] { display: none; }` but bootstrap.min.css set `[hidden] { display: none !important; }` so we also need the `!important` here to be able to override the default hidden behavior on the sphinx rendered scikit-learn.org. See: https://github.com/scikit-learn/scikit-learn/issues/21755 */display: inline-block !important;position: relative;}#sk-container-id-1 div.sk-text-repr-fallback {display: none;}</style><div id=\"sk-container-id-1\" class=\"sk-top-container\"><div class=\"sk-text-repr-fallback\"><pre>LogisticRegression(penalty=&#x27;l1&#x27;, random_state=69, solver=&#x27;liblinear&#x27;)</pre><b>In a Jupyter environment, please rerun this cell to show the HTML representation or trust the notebook. <br />On GitHub, the HTML representation is unable to render, please try loading this page with nbviewer.org.</b></div><div class=\"sk-container\" hidden><div class=\"sk-item\"><div class=\"sk-estimator sk-toggleable\"><input class=\"sk-toggleable__control sk-hidden--visually\" id=\"sk-estimator-id-1\" type=\"checkbox\" checked><label for=\"sk-estimator-id-1\" class=\"sk-toggleable__label sk-toggleable__label-arrow\">LogisticRegression</label><div class=\"sk-toggleable__content\"><pre>LogisticRegression(penalty=&#x27;l1&#x27;, random_state=69, solver=&#x27;liblinear&#x27;)</pre></div></div></div></div></div>"
      ],
      "text/plain": [
       "LogisticRegression(penalty='l1', random_state=69, solver='liblinear')"
      ]
     },
     "execution_count": 7,
     "metadata": {},
     "output_type": "execute_result"
    }
   ],
   "source": [
    "model.fit(X_train,Y_train)"
   ]
  },
  {
   "cell_type": "markdown",
   "id": "6c51fca9",
   "metadata": {
    "papermill": {
     "duration": 0.006166,
     "end_time": "2025-04-25T22:37:06.962939",
     "exception": false,
     "start_time": "2025-04-25T22:37:06.956773",
     "status": "completed"
    },
    "tags": []
   },
   "source": [
    "# Converting X_cv Data to suitable format"
   ]
  },
  {
   "cell_type": "code",
   "execution_count": 8,
   "id": "50fe7f36",
   "metadata": {
    "execution": {
     "iopub.execute_input": "2025-04-25T22:37:06.977824Z",
     "iopub.status.busy": "2025-04-25T22:37:06.977475Z",
     "iopub.status.idle": "2025-04-25T22:37:07.072130Z",
     "shell.execute_reply": "2025-04-25T22:37:07.071205Z"
    },
    "papermill": {
     "duration": 0.103642,
     "end_time": "2025-04-25T22:37:07.073832",
     "exception": false,
     "start_time": "2025-04-25T22:37:06.970190",
     "status": "completed"
    },
    "tags": []
   },
   "outputs": [],
   "source": [
    "vectorizer = load('/kaggle/input/preprocessing_models/other/default/1/models_for_preprocessing/tfidf_vectorizer.joblib')   # e.g., CountVectorizer or TfidfVectorizer\n",
    "scaler = load('/kaggle/input/preprocessing_models/other/default/1/models_for_preprocessing/scaler.joblib')           # e.g., StandardScaler or MinMaxScaler\n",
    "pca = load('/kaggle/input/preprocessing_models/other/default/1/models_for_preprocessing/pca.joblib')"
   ]
  },
  {
   "cell_type": "code",
   "execution_count": 9,
   "id": "ab846952",
   "metadata": {
    "execution": {
     "iopub.execute_input": "2025-04-25T22:37:07.088041Z",
     "iopub.status.busy": "2025-04-25T22:37:07.087683Z",
     "iopub.status.idle": "2025-04-25T22:37:07.110867Z",
     "shell.execute_reply": "2025-04-25T22:37:07.109877Z"
    },
    "papermill": {
     "duration": 0.0322,
     "end_time": "2025-04-25T22:37:07.112494",
     "exception": false,
     "start_time": "2025-04-25T22:37:07.080294",
     "status": "completed"
    },
    "tags": []
   },
   "outputs": [],
   "source": [
    "tfidf_matrix_cv = vectorizer.transform(X_cv['Ad Topic Line'])\n",
    "\n",
    "# Convert the result to a DataFrame for easy inspection\n",
    "tfidf_df_cv = pd.DataFrame(tfidf_matrix_cv.toarray().astype(int), columns=vectorizer.get_feature_names_out())\n",
    "X_cv.reset_index(inplace=True)\n",
    "X_cv.drop('index',axis=1,inplace=True)\n",
    "# Optionally, concatenate these features back to your original DataFrame\n",
    "X_cv = pd.concat([X_cv, tfidf_df_cv], axis=1)"
   ]
  },
  {
   "cell_type": "code",
   "execution_count": 10,
   "id": "baff2e2d",
   "metadata": {
    "execution": {
     "iopub.execute_input": "2025-04-25T22:37:07.126749Z",
     "iopub.status.busy": "2025-04-25T22:37:07.126383Z",
     "iopub.status.idle": "2025-04-25T22:37:07.132230Z",
     "shell.execute_reply": "2025-04-25T22:37:07.131192Z"
    },
    "papermill": {
     "duration": 0.01485,
     "end_time": "2025-04-25T22:37:07.133936",
     "exception": false,
     "start_time": "2025-04-25T22:37:07.119086",
     "status": "completed"
    },
    "tags": []
   },
   "outputs": [],
   "source": [
    "X_cv=X_cv.drop('Ad Topic Line',axis=1)"
   ]
  },
  {
   "cell_type": "code",
   "execution_count": 11,
   "id": "3e5931c4",
   "metadata": {
    "execution": {
     "iopub.execute_input": "2025-04-25T22:37:07.148183Z",
     "iopub.status.busy": "2025-04-25T22:37:07.147832Z",
     "iopub.status.idle": "2025-04-25T22:37:07.153585Z",
     "shell.execute_reply": "2025-04-25T22:37:07.152691Z"
    },
    "papermill": {
     "duration": 0.014675,
     "end_time": "2025-04-25T22:37:07.155142",
     "exception": false,
     "start_time": "2025-04-25T22:37:07.140467",
     "status": "completed"
    },
    "tags": []
   },
   "outputs": [],
   "source": [
    "X_cv.drop([\n",
    "    'Daily Internet Usage_squared',\n",
    "    'Daily Internet Usage_cubed',\n",
    "    'Daily Internet Usage_to_the_fourth_power',\n",
    "    'Daily Time Spent on Site_squared',\n",
    "    'Daily Time Spent on Site_cubed',\n",
    "    'Daily Time Spent on Site_to_the_fourth_power'\n",
    "],axis=1,inplace=True)"
   ]
  },
  {
   "cell_type": "code",
   "execution_count": 12,
   "id": "3be237b6",
   "metadata": {
    "execution": {
     "iopub.execute_input": "2025-04-25T22:37:07.169625Z",
     "iopub.status.busy": "2025-04-25T22:37:07.168932Z",
     "iopub.status.idle": "2025-04-25T22:37:07.173077Z",
     "shell.execute_reply": "2025-04-25T22:37:07.172238Z"
    },
    "papermill": {
     "duration": 0.012972,
     "end_time": "2025-04-25T22:37:07.174598",
     "exception": false,
     "start_time": "2025-04-25T22:37:07.161626",
     "status": "completed"
    },
    "tags": []
   },
   "outputs": [],
   "source": [
    "not_cat_cols=[\n",
    "    'Daily Time Spent on Site',\n",
    "    'Daily Internet Usage',\n",
    "    'Area Income_negated_sqrt',\n",
    "    'Age_log_transformed'\n",
    "]"
   ]
  },
  {
   "cell_type": "code",
   "execution_count": 13,
   "id": "49ee1d3b",
   "metadata": {
    "execution": {
     "iopub.execute_input": "2025-04-25T22:37:07.188965Z",
     "iopub.status.busy": "2025-04-25T22:37:07.188610Z",
     "iopub.status.idle": "2025-04-25T22:37:07.192956Z",
     "shell.execute_reply": "2025-04-25T22:37:07.192154Z"
    },
    "papermill": {
     "duration": 0.013286,
     "end_time": "2025-04-25T22:37:07.194432",
     "exception": false,
     "start_time": "2025-04-25T22:37:07.181146",
     "status": "completed"
    },
    "tags": []
   },
   "outputs": [],
   "source": [
    "cat_cols=list(set(X_cv.columns)-set(not_cat_cols))"
   ]
  },
  {
   "cell_type": "code",
   "execution_count": 14,
   "id": "98fbe783",
   "metadata": {
    "execution": {
     "iopub.execute_input": "2025-04-25T22:37:07.208825Z",
     "iopub.status.busy": "2025-04-25T22:37:07.208452Z",
     "iopub.status.idle": "2025-04-25T22:37:07.215645Z",
     "shell.execute_reply": "2025-04-25T22:37:07.214524Z"
    },
    "papermill": {
     "duration": 0.016312,
     "end_time": "2025-04-25T22:37:07.217342",
     "exception": false,
     "start_time": "2025-04-25T22:37:07.201030",
     "status": "completed"
    },
    "tags": []
   },
   "outputs": [],
   "source": [
    "transformed_not_cal_data_cv=scaler.transform(X_cv[not_cat_cols])"
   ]
  },
  {
   "cell_type": "code",
   "execution_count": 15,
   "id": "e177cc82",
   "metadata": {
    "execution": {
     "iopub.execute_input": "2025-04-25T22:37:07.232089Z",
     "iopub.status.busy": "2025-04-25T22:37:07.231205Z",
     "iopub.status.idle": "2025-04-25T22:37:07.237940Z",
     "shell.execute_reply": "2025-04-25T22:37:07.237026Z"
    },
    "papermill": {
     "duration": 0.015585,
     "end_time": "2025-04-25T22:37:07.239475",
     "exception": false,
     "start_time": "2025-04-25T22:37:07.223890",
     "status": "completed"
    },
    "tags": []
   },
   "outputs": [],
   "source": [
    "scaled_X_cv=pd.concat([pd.DataFrame(transformed_not_cal_data_cv,columns=not_cat_cols),X_cv[cat_cols]],axis=1)"
   ]
  },
  {
   "cell_type": "code",
   "execution_count": 16,
   "id": "38a13910",
   "metadata": {
    "execution": {
     "iopub.execute_input": "2025-04-25T22:37:07.257141Z",
     "iopub.status.busy": "2025-04-25T22:37:07.256264Z",
     "iopub.status.idle": "2025-04-25T22:37:07.268550Z",
     "shell.execute_reply": "2025-04-25T22:37:07.267349Z"
    },
    "papermill": {
     "duration": 0.024413,
     "end_time": "2025-04-25T22:37:07.270821",
     "exception": false,
     "start_time": "2025-04-25T22:37:07.246408",
     "status": "completed"
    },
    "tags": []
   },
   "outputs": [],
   "source": [
    "pca_data_cv=pca.transform(scaled_X_cv[['Daily Time Spent on Site','Daily Internet Usage']])"
   ]
  },
  {
   "cell_type": "code",
   "execution_count": 17,
   "id": "c82e341f",
   "metadata": {
    "execution": {
     "iopub.execute_input": "2025-04-25T22:37:07.290879Z",
     "iopub.status.busy": "2025-04-25T22:37:07.290517Z",
     "iopub.status.idle": "2025-04-25T22:37:07.297731Z",
     "shell.execute_reply": "2025-04-25T22:37:07.296754Z"
    },
    "papermill": {
     "duration": 0.018862,
     "end_time": "2025-04-25T22:37:07.299486",
     "exception": false,
     "start_time": "2025-04-25T22:37:07.280624",
     "status": "completed"
    },
    "tags": []
   },
   "outputs": [],
   "source": [
    "X_cv=pd.concat([pd.Series(pca_data_cv.flatten(),name='pca_data'),scaled_X_cv.drop(['Daily Time Spent on Site','Daily Internet Usage'],axis=1)],axis=1)"
   ]
  },
  {
   "cell_type": "code",
   "execution_count": 18,
   "id": "509ee7ed",
   "metadata": {
    "execution": {
     "iopub.execute_input": "2025-04-25T22:37:07.314567Z",
     "iopub.status.busy": "2025-04-25T22:37:07.313548Z",
     "iopub.status.idle": "2025-04-25T22:37:07.320882Z",
     "shell.execute_reply": "2025-04-25T22:37:07.319764Z"
    },
    "papermill": {
     "duration": 0.016525,
     "end_time": "2025-04-25T22:37:07.322610",
     "exception": false,
     "start_time": "2025-04-25T22:37:07.306085",
     "status": "completed"
    },
    "tags": []
   },
   "outputs": [],
   "source": [
    "X_cv['pca_data_squared']=X_cv['pca_data']**2\n",
    "X_cv['pca_data_cubed']=X_cv['pca_data']**3\n",
    "X_cv['pca_data_to_the_fourth_power']=X_cv['pca_data']**4"
   ]
  },
  {
   "cell_type": "code",
   "execution_count": 19,
   "id": "5e9d4e26",
   "metadata": {
    "execution": {
     "iopub.execute_input": "2025-04-25T22:37:07.337426Z",
     "iopub.status.busy": "2025-04-25T22:37:07.336559Z",
     "iopub.status.idle": "2025-04-25T22:37:07.342192Z",
     "shell.execute_reply": "2025-04-25T22:37:07.341443Z"
    },
    "papermill": {
     "duration": 0.014323,
     "end_time": "2025-04-25T22:37:07.343610",
     "exception": false,
     "start_time": "2025-04-25T22:37:07.329287",
     "status": "completed"
    },
    "tags": []
   },
   "outputs": [],
   "source": [
    "X_cv=X_cv[X_train.columns]"
   ]
  },
  {
   "cell_type": "markdown",
   "id": "e322e3e7",
   "metadata": {
    "papermill": {
     "duration": 0.006243,
     "end_time": "2025-04-25T22:37:07.356304",
     "exception": false,
     "start_time": "2025-04-25T22:37:07.350061",
     "status": "completed"
    },
    "tags": []
   },
   "source": [
    "# Testing Data"
   ]
  },
  {
   "cell_type": "code",
   "execution_count": 20,
   "id": "536551a7",
   "metadata": {
    "execution": {
     "iopub.execute_input": "2025-04-25T22:37:07.370515Z",
     "iopub.status.busy": "2025-04-25T22:37:07.370188Z",
     "iopub.status.idle": "2025-04-25T22:37:07.380045Z",
     "shell.execute_reply": "2025-04-25T22:37:07.379113Z"
    },
    "papermill": {
     "duration": 0.019131,
     "end_time": "2025-04-25T22:37:07.381842",
     "exception": false,
     "start_time": "2025-04-25T22:37:07.362711",
     "status": "completed"
    },
    "tags": []
   },
   "outputs": [],
   "source": [
    "tfidf_matrix_test = vectorizer.transform(X_test['Ad Topic Line'])\n",
    "\n",
    "# Convert the result to a DataFrame for easy inspection\n",
    "tfidf_df_test = pd.DataFrame(tfidf_matrix_test.toarray().astype(int), columns=vectorizer.get_feature_names_out())\n",
    "X_test.reset_index(inplace=True)\n",
    "X_test.drop('index',axis=1,inplace=True)\n",
    "# Optionally, concatenate these features back to your original DataFrame\n",
    "X_test = pd.concat([X_test, tfidf_df_test], axis=1)"
   ]
  },
  {
   "cell_type": "code",
   "execution_count": 21,
   "id": "265f5fbd",
   "metadata": {
    "execution": {
     "iopub.execute_input": "2025-04-25T22:37:07.460132Z",
     "iopub.status.busy": "2025-04-25T22:37:07.459790Z",
     "iopub.status.idle": "2025-04-25T22:37:07.465343Z",
     "shell.execute_reply": "2025-04-25T22:37:07.464464Z"
    },
    "papermill": {
     "duration": 0.078092,
     "end_time": "2025-04-25T22:37:07.466854",
     "exception": false,
     "start_time": "2025-04-25T22:37:07.388762",
     "status": "completed"
    },
    "tags": []
   },
   "outputs": [],
   "source": [
    "X_test=X_test.drop('Ad Topic Line',axis=1)"
   ]
  },
  {
   "cell_type": "code",
   "execution_count": 22,
   "id": "8cbbca58",
   "metadata": {
    "execution": {
     "iopub.execute_input": "2025-04-25T22:37:07.481328Z",
     "iopub.status.busy": "2025-04-25T22:37:07.481035Z",
     "iopub.status.idle": "2025-04-25T22:37:07.486711Z",
     "shell.execute_reply": "2025-04-25T22:37:07.485734Z"
    },
    "papermill": {
     "duration": 0.01464,
     "end_time": "2025-04-25T22:37:07.488240",
     "exception": false,
     "start_time": "2025-04-25T22:37:07.473600",
     "status": "completed"
    },
    "tags": []
   },
   "outputs": [],
   "source": [
    "X_test.drop([\n",
    "    'Daily Internet Usage_squared',\n",
    "    'Daily Internet Usage_cubed',\n",
    "    'Daily Internet Usage_to_the_fourth_power',\n",
    "    'Daily Time Spent on Site_squared',\n",
    "    'Daily Time Spent on Site_cubed',\n",
    "    'Daily Time Spent on Site_to_the_fourth_power'\n",
    "],axis=1,inplace=True)"
   ]
  },
  {
   "cell_type": "code",
   "execution_count": 23,
   "id": "88274ddf",
   "metadata": {
    "execution": {
     "iopub.execute_input": "2025-04-25T22:37:07.503183Z",
     "iopub.status.busy": "2025-04-25T22:37:07.502363Z",
     "iopub.status.idle": "2025-04-25T22:37:07.506853Z",
     "shell.execute_reply": "2025-04-25T22:37:07.506006Z"
    },
    "papermill": {
     "duration": 0.013367,
     "end_time": "2025-04-25T22:37:07.508305",
     "exception": false,
     "start_time": "2025-04-25T22:37:07.494938",
     "status": "completed"
    },
    "tags": []
   },
   "outputs": [],
   "source": [
    "not_cat_cols=[\n",
    "    'Daily Time Spent on Site',\n",
    "    'Daily Internet Usage',\n",
    "    'Area Income_negated_sqrt',\n",
    "    'Age_log_transformed'\n",
    "]"
   ]
  },
  {
   "cell_type": "code",
   "execution_count": 24,
   "id": "6186cdf0",
   "metadata": {
    "execution": {
     "iopub.execute_input": "2025-04-25T22:37:07.523409Z",
     "iopub.status.busy": "2025-04-25T22:37:07.522590Z",
     "iopub.status.idle": "2025-04-25T22:37:07.526953Z",
     "shell.execute_reply": "2025-04-25T22:37:07.526105Z"
    },
    "papermill": {
     "duration": 0.013522,
     "end_time": "2025-04-25T22:37:07.528580",
     "exception": false,
     "start_time": "2025-04-25T22:37:07.515058",
     "status": "completed"
    },
    "tags": []
   },
   "outputs": [],
   "source": [
    "cat_cols=list(set(X_test.columns)-set(not_cat_cols))"
   ]
  },
  {
   "cell_type": "code",
   "execution_count": 25,
   "id": "54eb9d0c",
   "metadata": {
    "execution": {
     "iopub.execute_input": "2025-04-25T22:37:07.544153Z",
     "iopub.status.busy": "2025-04-25T22:37:07.543825Z",
     "iopub.status.idle": "2025-04-25T22:37:07.550748Z",
     "shell.execute_reply": "2025-04-25T22:37:07.549854Z"
    },
    "papermill": {
     "duration": 0.01701,
     "end_time": "2025-04-25T22:37:07.552336",
     "exception": false,
     "start_time": "2025-04-25T22:37:07.535326",
     "status": "completed"
    },
    "tags": []
   },
   "outputs": [],
   "source": [
    "transformed_not_cal_data_test=scaler.transform(X_test[not_cat_cols])"
   ]
  },
  {
   "cell_type": "code",
   "execution_count": 26,
   "id": "c8869a05",
   "metadata": {
    "execution": {
     "iopub.execute_input": "2025-04-25T22:37:07.567515Z",
     "iopub.status.busy": "2025-04-25T22:37:07.567178Z",
     "iopub.status.idle": "2025-04-25T22:37:07.573803Z",
     "shell.execute_reply": "2025-04-25T22:37:07.572776Z"
    },
    "papermill": {
     "duration": 0.016167,
     "end_time": "2025-04-25T22:37:07.575378",
     "exception": false,
     "start_time": "2025-04-25T22:37:07.559211",
     "status": "completed"
    },
    "tags": []
   },
   "outputs": [],
   "source": [
    "scaled_X_test=pd.concat([pd.DataFrame(transformed_not_cal_data_test,columns=not_cat_cols),X_test[cat_cols]],axis=1)"
   ]
  },
  {
   "cell_type": "code",
   "execution_count": 27,
   "id": "5328c09d",
   "metadata": {
    "execution": {
     "iopub.execute_input": "2025-04-25T22:37:07.590529Z",
     "iopub.status.busy": "2025-04-25T22:37:07.589906Z",
     "iopub.status.idle": "2025-04-25T22:37:07.596250Z",
     "shell.execute_reply": "2025-04-25T22:37:07.595430Z"
    },
    "papermill": {
     "duration": 0.015295,
     "end_time": "2025-04-25T22:37:07.597747",
     "exception": false,
     "start_time": "2025-04-25T22:37:07.582452",
     "status": "completed"
    },
    "tags": []
   },
   "outputs": [],
   "source": [
    "pca_data_test=pca.transform(scaled_X_test[['Daily Time Spent on Site','Daily Internet Usage']])"
   ]
  },
  {
   "cell_type": "code",
   "execution_count": 28,
   "id": "edfc358e",
   "metadata": {
    "execution": {
     "iopub.execute_input": "2025-04-25T22:37:07.612441Z",
     "iopub.status.busy": "2025-04-25T22:37:07.612140Z",
     "iopub.status.idle": "2025-04-25T22:37:07.618506Z",
     "shell.execute_reply": "2025-04-25T22:37:07.617595Z"
    },
    "papermill": {
     "duration": 0.015452,
     "end_time": "2025-04-25T22:37:07.620061",
     "exception": false,
     "start_time": "2025-04-25T22:37:07.604609",
     "status": "completed"
    },
    "tags": []
   },
   "outputs": [],
   "source": [
    "X_test=pd.concat([pd.Series(pca_data_test.flatten(),name='pca_data'),scaled_X_test.drop(['Daily Time Spent on Site','Daily Internet Usage'],axis=1)],axis=1)"
   ]
  },
  {
   "cell_type": "code",
   "execution_count": 29,
   "id": "14350236",
   "metadata": {
    "execution": {
     "iopub.execute_input": "2025-04-25T22:37:07.635013Z",
     "iopub.status.busy": "2025-04-25T22:37:07.634704Z",
     "iopub.status.idle": "2025-04-25T22:37:07.641741Z",
     "shell.execute_reply": "2025-04-25T22:37:07.640727Z"
    },
    "papermill": {
     "duration": 0.016259,
     "end_time": "2025-04-25T22:37:07.643203",
     "exception": false,
     "start_time": "2025-04-25T22:37:07.626944",
     "status": "completed"
    },
    "tags": []
   },
   "outputs": [],
   "source": [
    "X_test['pca_data_squared']=X_test['pca_data']**2\n",
    "X_test['pca_data_cubed']=X_test['pca_data']**3\n",
    "X_test['pca_data_to_the_fourth_power']=X_test['pca_data']**4"
   ]
  },
  {
   "cell_type": "code",
   "execution_count": 30,
   "id": "0a2037d4",
   "metadata": {
    "execution": {
     "iopub.execute_input": "2025-04-25T22:37:07.658508Z",
     "iopub.status.busy": "2025-04-25T22:37:07.658193Z",
     "iopub.status.idle": "2025-04-25T22:37:07.664068Z",
     "shell.execute_reply": "2025-04-25T22:37:07.663106Z"
    },
    "papermill": {
     "duration": 0.015484,
     "end_time": "2025-04-25T22:37:07.665579",
     "exception": false,
     "start_time": "2025-04-25T22:37:07.650095",
     "status": "completed"
    },
    "tags": []
   },
   "outputs": [],
   "source": [
    "X_test=X_test[X_train.columns]"
   ]
  },
  {
   "cell_type": "code",
   "execution_count": 31,
   "id": "fa6975d3",
   "metadata": {
    "execution": {
     "iopub.execute_input": "2025-04-25T22:37:07.680673Z",
     "iopub.status.busy": "2025-04-25T22:37:07.680322Z",
     "iopub.status.idle": "2025-04-25T22:37:07.705231Z",
     "shell.execute_reply": "2025-04-25T22:37:07.704224Z"
    },
    "papermill": {
     "duration": 0.034359,
     "end_time": "2025-04-25T22:37:07.706865",
     "exception": false,
     "start_time": "2025-04-25T22:37:07.672506",
     "status": "completed"
    },
    "tags": []
   },
   "outputs": [
    {
     "name": "stdout",
     "output_type": "stream",
     "text": [
      "Training Accuracy Score:  96.63\n",
      "Training Precision Score:  98.25\n",
      "Training Recall Score:  94.92\n"
     ]
    }
   ],
   "source": [
    "print(\"Training Accuracy Score: \",np.round(accuracy_score(Y_train,model.predict(X_train))*100,2))\n",
    "print(\"Training Precision Score: \",np.round(precision_score(Y_train,model.predict(X_train))*100,2))\n",
    "print(\"Training Recall Score: \",np.round(recall_score(Y_train,model.predict(X_train))*100,2))"
   ]
  },
  {
   "cell_type": "code",
   "execution_count": 32,
   "id": "0bf2b17d",
   "metadata": {
    "execution": {
     "iopub.execute_input": "2025-04-25T22:37:07.722231Z",
     "iopub.status.busy": "2025-04-25T22:37:07.721852Z",
     "iopub.status.idle": "2025-04-25T22:37:07.748953Z",
     "shell.execute_reply": "2025-04-25T22:37:07.747816Z"
    },
    "papermill": {
     "duration": 0.03656,
     "end_time": "2025-04-25T22:37:07.750582",
     "exception": false,
     "start_time": "2025-04-25T22:37:07.714022",
     "status": "completed"
    },
    "tags": []
   },
   "outputs": [
    {
     "name": "stdout",
     "output_type": "stream",
     "text": [
      "CV Accuracy Score:  96.97\n",
      "CV Precision Score:  97.06\n",
      "CV Recall Score:  97.06\n"
     ]
    }
   ],
   "source": [
    "print(\"CV Accuracy Score: \",np.round(accuracy_score(Y_cv,model.predict(X_cv))*100,2))\n",
    "print(\"CV Precision Score: \",np.round(precision_score(Y_cv,model.predict(X_cv))*100,2))\n",
    "print(\"CV Recall Score: \",np.round(recall_score(Y_cv,model.predict(X_cv))*100,2))"
   ]
  },
  {
   "cell_type": "code",
   "execution_count": 33,
   "id": "f522a291",
   "metadata": {
    "execution": {
     "iopub.execute_input": "2025-04-25T22:37:07.766332Z",
     "iopub.status.busy": "2025-04-25T22:37:07.765999Z",
     "iopub.status.idle": "2025-04-25T22:37:07.791362Z",
     "shell.execute_reply": "2025-04-25T22:37:07.790279Z"
    },
    "papermill": {
     "duration": 0.035052,
     "end_time": "2025-04-25T22:37:07.793081",
     "exception": false,
     "start_time": "2025-04-25T22:37:07.758029",
     "status": "completed"
    },
    "tags": []
   },
   "outputs": [
    {
     "name": "stdout",
     "output_type": "stream",
     "text": [
      "Test Accuracy Score:  97.98\n",
      "Test Precision Score:  97.85\n",
      "Test Recall Score:  97.85\n"
     ]
    }
   ],
   "source": [
    "print(\"Test Accuracy Score: \",np.round(accuracy_score(Y_test,model.predict(X_test))*100,2))\n",
    "print(\"Test Precision Score: \",np.round(precision_score(Y_test,model.predict(X_test))*100,2))\n",
    "print(\"Test Recall Score: \",np.round(recall_score(Y_test,model.predict(X_test))*100,2))"
   ]
  },
  {
   "cell_type": "code",
   "execution_count": 34,
   "id": "b162a82d",
   "metadata": {
    "execution": {
     "iopub.execute_input": "2025-04-25T22:37:07.809080Z",
     "iopub.status.busy": "2025-04-25T22:37:07.808739Z",
     "iopub.status.idle": "2025-04-25T22:37:08.074930Z",
     "shell.execute_reply": "2025-04-25T22:37:08.074021Z"
    },
    "papermill": {
     "duration": 0.275882,
     "end_time": "2025-04-25T22:37:08.076419",
     "exception": false,
     "start_time": "2025-04-25T22:37:07.800537",
     "status": "completed"
    },
    "tags": []
   },
   "outputs": [
    {
     "data": {
      "image/png": "[encoded data removed]",
      "text/plain": [
       "<Figure size 640x480 with 2 Axes>"
      ]
     },
     "metadata": {},
     "output_type": "display_data"
    }
   ],
   "source": [
    "cm_cv = confusion_matrix(Y_cv, model.predict(X_cv))\n",
    "\n",
    "# Display the confusion matrix\n",
    "disp = ConfusionMatrixDisplay(confusion_matrix=cm_cv, display_labels=model.classes_)\n",
    "disp.plot(cmap='Blues')\n",
    "plt.title(\"Confusion Matrix: CV\")\n",
    "plt.show()"
   ]
  },
  {
   "cell_type": "code",
   "execution_count": 35,
   "id": "91b90038",
   "metadata": {
    "execution": {
     "iopub.execute_input": "2025-04-25T22:37:08.092632Z",
     "iopub.status.busy": "2025-04-25T22:37:08.092309Z",
     "iopub.status.idle": "2025-04-25T22:37:08.269489Z",
     "shell.execute_reply": "2025-04-25T22:37:08.268609Z"
    },
    "papermill": {
     "duration": 0.186913,
     "end_time": "2025-04-25T22:37:08.270981",
     "exception": false,
     "start_time": "2025-04-25T22:37:08.084068",
     "status": "completed"
    },
    "tags": []
   },
   "outputs": [
    {
     "data": {
      "image/png": "[encoded data removed]",
      "text/plain": [
       "<Figure size 640x480 with 2 Axes>"
      ]
     },
     "metadata": {},
     "output_type": "display_data"
    }
   ],
   "source": [
    "cm_test = confusion_matrix(Y_test, model.predict(X_test))\n",
    "\n",
    "# Display the confusion matrix\n",
    "disp = ConfusionMatrixDisplay(confusion_matrix=cm_test, display_labels=model.classes_)\n",
    "disp.plot(cmap='Blues')\n",
    "plt.title(\"Confusion Matrix: Test\")\n",
    "plt.show()"
   ]
  },
  {
   "cell_type": "code",
   "execution_count": null,
   "id": "3c14072a",
   "metadata": {
    "papermill": {
     "duration": 0.007545,
     "end_time": "2025-04-25T22:37:08.286507",
     "exception": false,
     "start_time": "2025-04-25T22:37:08.278962",
     "status": "completed"
    },
    "tags": []
   },
   "outputs": [],
   "source": []
  },
  {
   "cell_type": "code",
   "execution_count": null,
   "id": "d79bda1d",
   "metadata": {
    "papermill": {
     "duration": 0.007596,
     "end_time": "2025-04-25T22:37:08.302098",
     "exception": false,
     "start_time": "2025-04-25T22:37:08.294502",
     "status": "completed"
    },
    "tags": []
   },
   "outputs": [],
   "source": []
  },
  {
   "cell_type": "code",
   "execution_count": null,
   "id": "4650804a",
   "metadata": {
    "papermill": {
     "duration": 0.007567,
     "end_time": "2025-04-25T22:37:08.317365",
     "exception": false,
     "start_time": "2025-04-25T22:37:08.309798",
     "status": "completed"
    },
    "tags": []
   },
   "outputs": [],
   "source": []
  },
  {
   "cell_type": "code",
   "execution_count": null,
   "id": "22bc1600",
   "metadata": {
    "papermill": {
     "duration": 0.007368,
     "end_time": "2025-04-25T22:37:08.332494",
     "exception": false,
     "start_time": "2025-04-25T22:37:08.325126",
     "status": "completed"
    },
    "tags": []
   },
   "outputs": [],
   "source": []
  },
  {
   "cell_type": "code",
   "execution_count": null,
   "id": "a957e6c8",
   "metadata": {
    "papermill": {
     "duration": 0.007344,
     "end_time": "2025-04-25T22:37:08.347556",
     "exception": false,
     "start_time": "2025-04-25T22:37:08.340212",
     "status": "completed"
    },
    "tags": []
   },
   "outputs": [],
   "source": []
  },
  {
   "cell_type": "code",
   "execution_count": null,
   "id": "167c3679",
   "metadata": {
    "papermill": {
     "duration": 0.007355,
     "end_time": "2025-04-25T22:37:08.362500",
     "exception": false,
     "start_time": "2025-04-25T22:37:08.355145",
     "status": "completed"
    },
    "tags": []
   },
   "outputs": [],
   "source": []
  }
 ],
 "metadata": {
  "kaggle": {
   "accelerator": "none",
   "dataSources": [
    {
     "datasetId": 7253404,
     "sourceId": 11569298,
     "sourceType": "datasetVersion"
    },
    {
     "isSourceIdPinned": true,
     "modelId": 318642,
     "modelInstanceId": 298034,
     "sourceId": 357651,
     "sourceType": "modelInstanceVersion"
    }
   ],
   "dockerImageVersionId": 31012,
   "isGpuEnabled": false,
   "isInternetEnabled": true,
   "language": "python",
   "sourceType": "notebook"
  },
  "kernelspec": {
   "display_name": "Python 3",
   "language": "python",
   "name": "python3"
  },
  "language_info": {
   "codemirror_mode": {
    "name": "ipython",
    "version": 3
   },
   "file_extension": ".py",
   "mimetype": "text/x-python",
   "name": "python",
   "nbconvert_exporter": "python",
   "pygments_lexer": "ipython3",
   "version": "3.11.11"
  },
  "papermill": {
   "default_parameters": {},
   "duration": 10.88134,
   "end_time": "2025-04-25T22:37:08.990096",
   "environment_variables": {},
   "exception": null,
   "input_path": "__notebook__.ipynb",
   "output_path": "__notebook__.ipynb",
   "parameters": {},
   "start_time": "2025-04-25T22:36:58.108756",
   "version": "2.6.0"
  }
 },
 "nbformat": 4,
 "nbformat_minor": 5
}
