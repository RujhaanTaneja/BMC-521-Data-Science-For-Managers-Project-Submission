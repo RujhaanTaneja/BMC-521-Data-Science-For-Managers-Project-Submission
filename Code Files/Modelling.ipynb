{
 "cells": [
  {
   "cell_type": "code",
   "execution_count": 1,
   "id": "937f9ef0",
   "metadata": {
    "_cell_guid": "b1076dfc-b9ad-4769-8c92-a6c4dae69d19",
    "_uuid": "8f2839f25d086af736a60e9eeb907d3b93b6e0e5",
    "execution": {
     "iopub.execute_input": "2025-04-25T22:30:35.240595Z",
     "iopub.status.busy": "2025-04-25T22:30:35.240206Z",
     "iopub.status.idle": "2025-04-25T22:30:39.030313Z",
     "shell.execute_reply": "2025-04-25T22:30:39.029213Z"
    },
    "papermill": {
     "duration": 3.801118,
     "end_time": "2025-04-25T22:30:39.032152",
     "exception": false,
     "start_time": "2025-04-25T22:30:35.231034",
     "status": "completed"
    },
    "tags": []
   },
   "outputs": [
    {
     "name": "stdout",
     "output_type": "stream",
     "text": [
      "/kaggle/input/preprocessing_models/other/default/1/models_for_preprocessing/scaler.joblib\n",
      "/kaggle/input/preprocessing_models/other/default/1/models_for_preprocessing/pca.joblib\n",
      "/kaggle/input/preprocessing_models/other/default/1/models_for_preprocessing/tfidf_vectorizer.joblib\n",
      "/kaggle/input/processed-bmc-512-data/dataset_final/Y_test.csv\n",
      "/kaggle/input/processed-bmc-512-data/dataset_final/X_test.csv\n",
      "/kaggle/input/processed-bmc-512-data/dataset_final/Y_train.csv\n",
      "/kaggle/input/processed-bmc-512-data/dataset_final/X_train.csv\n",
      "/kaggle/input/processed-bmc-512-data/dataset_final/Y_cv.csv\n",
      "/kaggle/input/processed-bmc-512-data/dataset_final/X_cv.csv\n"
     ]
    }
   ],
   "source": [
    "# This Python 3 environment comes with many helpful analytics libraries installed\n",
    "# It is defined by the kaggle/python Docker image: https://github.com/kaggle/docker-python\n",
    "# For example, here's several helpful packages to load\n",
    "\n",
    "import numpy as np # linear algebra\n",
    "import pandas as pd # data processing, CSV file I/O (e.g. pd.read_csv)\n",
    "from sklearn.linear_model import LogisticRegression\n",
    "from sklearn.metrics import accuracy_score, recall_score,precision_score,confusion_matrix\n",
    "import joblib\n",
    "from joblib import load\n",
    "\n",
    "# Input data files are available in the read-only \"../input/\" directory\n",
    "# For example, running this (by clicking run or pressing Shift+Enter) will list all files under the input directory\n",
    "\n",
    "import os\n",
    "for dirname, _, filenames in os.walk('/kaggle/input'):\n",
    "    for filename in filenames:\n",
    "        print(os.path.join(dirname, filename))\n",
    "\n",
    "# You can write up to 20GB to the current directory (/kaggle/working/) that gets preserved as output when you create a version using \"Save & Run All\" \n",
    "# You can also write temporary files to /kaggle/temp/, but they won't be saved outside of the current session"
   ]
  },
  {
   "cell_type": "code",
   "execution_count": 2,
   "id": "e85d5ae9",
   "metadata": {
    "execution": {
     "iopub.execute_input": "2025-04-25T22:30:39.048326Z",
     "iopub.status.busy": "2025-04-25T22:30:39.047821Z",
     "iopub.status.idle": "2025-04-25T22:30:39.085732Z",
     "shell.execute_reply": "2025-04-25T22:30:39.084584Z"
    },
    "papermill": {
     "duration": 0.048676,
     "end_time": "2025-04-25T22:30:39.087914",
     "exception": false,
     "start_time": "2025-04-25T22:30:39.039238",
     "status": "completed"
    },
    "tags": []
   },
   "outputs": [],
   "source": [
    "X_train=pd.read_csv('/kaggle/input/processed-bmc-512-data/dataset_final/X_train.csv')\n",
    "Y_train=pd.read_csv('/kaggle/input/processed-bmc-512-data/dataset_final/Y_train.csv')"
   ]
  },
  {
   "cell_type": "code",
   "execution_count": 3,
   "id": "ad6450c7",
   "metadata": {
    "execution": {
     "iopub.execute_input": "2025-04-25T22:30:39.103792Z",
     "iopub.status.busy": "2025-04-25T22:30:39.102723Z",
     "iopub.status.idle": "2025-04-25T22:30:39.126165Z",
     "shell.execute_reply": "2025-04-25T22:30:39.125181Z"
    },
    "papermill": {
     "duration": 0.032991,
     "end_time": "2025-04-25T22:30:39.127951",
     "exception": false,
     "start_time": "2025-04-25T22:30:39.094960",
     "status": "completed"
    },
    "tags": []
   },
   "outputs": [],
   "source": [
    "X_cv=pd.read_csv('/kaggle/input/processed-bmc-512-data/dataset_final/X_cv.csv')\n",
    "Y_cv=pd.read_csv('/kaggle/input/processed-bmc-512-data/dataset_final/Y_cv.csv')"
   ]
  },
  {
   "cell_type": "code",
   "execution_count": 4,
   "id": "202694d0",
   "metadata": {
    "execution": {
     "iopub.execute_input": "2025-04-25T22:30:39.142974Z",
     "iopub.status.busy": "2025-04-25T22:30:39.142535Z",
     "iopub.status.idle": "2025-04-25T22:30:39.163102Z",
     "shell.execute_reply": "2025-04-25T22:30:39.162128Z"
    },
    "papermill": {
     "duration": 0.030004,
     "end_time": "2025-04-25T22:30:39.164786",
     "exception": false,
     "start_time": "2025-04-25T22:30:39.134782",
     "status": "completed"
    },
    "tags": []
   },
   "outputs": [],
   "source": [
    "X_test=pd.read_csv('/kaggle/input/processed-bmc-512-data/dataset_final/X_test.csv')\n",
    "Y_test=pd.read_csv('/kaggle/input/processed-bmc-512-data/dataset_final/Y_test.csv')"
   ]
  },
  {
   "cell_type": "code",
   "execution_count": 5,
   "id": "59cc8f67",
   "metadata": {
    "execution": {
     "iopub.execute_input": "2025-04-25T22:30:39.179643Z",
     "iopub.status.busy": "2025-04-25T22:30:39.179236Z",
     "iopub.status.idle": "2025-04-25T22:30:39.184773Z",
     "shell.execute_reply": "2025-04-25T22:30:39.183781Z"
    },
    "papermill": {
     "duration": 0.015077,
     "end_time": "2025-04-25T22:30:39.186702",
     "exception": false,
     "start_time": "2025-04-25T22:30:39.171625",
     "status": "completed"
    },
    "tags": []
   },
   "outputs": [],
   "source": [
    "params={\n",
    "    'random_state':69,\n",
    "    'max_iter': 100,\n",
    "    'solver':'liblinear',\n",
    "    'penalty':'l1',\n",
    "}"
   ]
  },
  {
   "cell_type": "code",
   "execution_count": 6,
   "id": "817ceeea",
   "metadata": {
    "execution": {
     "iopub.execute_input": "2025-04-25T22:30:39.201522Z",
     "iopub.status.busy": "2025-04-25T22:30:39.201181Z",
     "iopub.status.idle": "2025-04-25T22:30:39.205747Z",
     "shell.execute_reply": "2025-04-25T22:30:39.204841Z"
    },
    "papermill": {
     "duration": 0.013783,
     "end_time": "2025-04-25T22:30:39.207370",
     "exception": false,
     "start_time": "2025-04-25T22:30:39.193587",
     "status": "completed"
    },
    "tags": []
   },
   "outputs": [],
   "source": [
    "model=LogisticRegression(**params)"
   ]
  },
  {
   "cell_type": "code",
   "execution_count": 7,
   "id": "f7119c48",
   "metadata": {
    "execution": {
     "iopub.execute_input": "2025-04-25T22:30:39.222538Z",
     "iopub.status.busy": "2025-04-25T22:30:39.222125Z",
     "iopub.status.idle": "2025-04-25T22:30:39.256800Z",
     "shell.execute_reply": "2025-04-25T22:30:39.255731Z"
    },
    "papermill": {
     "duration": 0.044976,
     "end_time": "2025-04-25T22:30:39.259155",
     "exception": false,
     "start_time": "2025-04-25T22:30:39.214179",
     "status": "completed"
    },
    "tags": []
   },
   "outputs": [
    {
     "name": "stderr",
     "output_type": "stream",
     "text": [
      "/usr/local/lib/python3.11/dist-packages/sklearn/utils/validation.py:1143: DataConversionWarning: A column-vector y was passed when a 1d array was expected. Please change the shape of y to (n_samples, ), for example using ravel().\n",
      "  y = column_or_1d(y, warn=True)\n"
     ]
    },
    {
     "data": {
      "text/html": [
       "<style>#sk-container-id-1 {color: black;background-color: white;}#sk-container-id-1 pre{padding: 0;}#sk-container-id-1 div.sk-toggleable {background-color: white;}#sk-container-id-1 label.sk-toggleable__label {cursor: pointer;display: block;width: 100%;margin-bottom: 0;padding: 0.3em;box-sizing: border-box;text-align: center;}#sk-container-id-1 label.sk-toggleable__label-arrow:before {content: \"▸\";float: left;margin-right: 0.25em;color: #696969;}#sk-container-id-1 label.sk-toggleable__label-arrow:hover:before {color: black;}#sk-container-id-1 div.sk-estimator:hover label.sk-toggleable__label-arrow:before {color: black;}#sk-container-id-1 div.sk-toggleable__content {max-height: 0;max-width: 0;overflow: hidden;text-align: left;background-color: #f0f8ff;}#sk-container-id-1 div.sk-toggleable__content pre {margin: 0.2em;color: black;border-radius: 0.25em;background-color: #f0f8ff;}#sk-container-id-1 input.sk-toggleable__control:checked~div.sk-toggleable__content {max-height: 200px;max-width: 100%;overflow: auto;}#sk-container-id-1 input.sk-toggleable__control:checked~label.sk-toggleable__label-arrow:before {content: \"▾\";}#sk-container-id-1 div.sk-estimator input.sk-toggleable__control:checked~label.sk-toggleable__label {background-color: #d4ebff;}#sk-container-id-1 div.sk-label input.sk-toggleable__control:checked~label.sk-toggleable__label {background-color: #d4ebff;}#sk-container-id-1 input.sk-hidden--visually {border: 0;clip: rect(1px 1px 1px 1px);clip: rect(1px, 1px, 1px, 1px);height: 1px;margin: -1px;overflow: hidden;padding: 0;position: absolute;width: 1px;}#sk-container-id-1 div.sk-estimator {font-family: monospace;background-color: #f0f8ff;border: 1px dotted black;border-radius: 0.25em;box-sizing: border-box;margin-bottom: 0.5em;}#sk-container-id-1 div.sk-estimator:hover {background-color: #d4ebff;}#sk-container-id-1 div.sk-parallel-item::after {content: \"\";width: 100%;border-bottom: 1px solid gray;flex-grow: 1;}#sk-container-id-1 div.sk-label:hover label.sk-toggleable__label {background-color: #d4ebff;}#sk-container-id-1 div.sk-serial::before {content: \"\";position: absolute;border-left: 1px solid gray;box-sizing: border-box;top: 0;bottom: 0;left: 50%;z-index: 0;}#sk-container-id-1 div.sk-serial {display: flex;flex-direction: column;align-items: center;background-color: white;padding-right: 0.2em;padding-left: 0.2em;position: relative;}#sk-container-id-1 div.sk-item {position: relative;z-index: 1;}#sk-container-id-1 div.sk-parallel {display: flex;align-items: stretch;justify-content: center;background-color: white;position: relative;}#sk-container-id-1 div.sk-item::before, #sk-container-id-1 div.sk-parallel-item::before {content: \"\";position: absolute;border-left: 1px solid gray;box-sizing: border-box;top: 0;bottom: 0;left: 50%;z-index: -1;}#sk-container-id-1 div.sk-parallel-item {display: flex;flex-direction: column;z-index: 1;position: relative;background-color: white;}#sk-container-id-1 div.sk-parallel-item:first-child::after {align-self: flex-end;width: 50%;}#sk-container-id-1 div.sk-parallel-item:last-child::after {align-self: flex-start;width: 50%;}#sk-container-id-1 div.sk-parallel-item:only-child::after {width: 0;}#sk-container-id-1 div.sk-dashed-wrapped {border: 1px dashed gray;margin: 0 0.4em 0.5em 0.4em;box-sizing: border-box;padding-bottom: 0.4em;background-color: white;}#sk-container-id-1 div.sk-label label {font-family: monospace;font-weight: bold;display: inline-block;line-height: 1.2em;}#sk-container-id-1 div.sk-label-container {text-align: center;}#sk-container-id-1 div.sk-container {/* jupyter's `normalize.less` sets `[hidden] { display: none; }` but bootstrap.min.css set `[hidden] { display: none !important; }` so we also need the `!important` here to be able to override the default hidden behavior on the sphinx rendered scikit-learn.org. See: https://github.com/scikit-learn/scikit-learn/issues/21755 */display: inline-block !important;position: relative;}#sk-container-id-1 div.sk-text-repr-fallback {display: none;}</style><div id=\"sk-container-id-1\" class=\"sk-top-container\"><div class=\"sk-text-repr-fallback\"><pre>LogisticRegression(penalty=&#x27;l1&#x27;, random_state=69, solver=&#x27;liblinear&#x27;)</pre><b>In a Jupyter environment, please rerun this cell to show the HTML representation or trust the notebook. <br />On GitHub, the HTML representation is unable to render, please try loading this page with nbviewer.org.</b></div><div class=\"sk-container\" hidden><div class=\"sk-item\"><div class=\"sk-estimator sk-toggleable\"><input class=\"sk-toggleable__control sk-hidden--visually\" id=\"sk-estimator-id-1\" type=\"checkbox\" checked><label for=\"sk-estimator-id-1\" class=\"sk-toggleable__label sk-toggleable__label-arrow\">LogisticRegression</label><div class=\"sk-toggleable__content\"><pre>LogisticRegression(penalty=&#x27;l1&#x27;, random_state=69, solver=&#x27;liblinear&#x27;)</pre></div></div></div></div></div>"
      ],
      "text/plain": [
       "LogisticRegression(penalty='l1', random_state=69, solver='liblinear')"
      ]
     },
     "execution_count": 7,
     "metadata": {},
     "output_type": "execute_result"
    }
   ],
   "source": [
    "model.fit(X_train,Y_train)"
   ]
  },
  {
   "cell_type": "markdown",
   "id": "5a430f26",
   "metadata": {
    "papermill": {
     "duration": 0.006624,
     "end_time": "2025-04-25T22:30:39.274537",
     "exception": false,
     "start_time": "2025-04-25T22:30:39.267913",
     "status": "completed"
    },
    "tags": []
   },
   "source": [
    "# Converting X_cv Data to suitable format"
   ]
  },
  {
   "cell_type": "code",
   "execution_count": 8,
   "id": "6611954e",
   "metadata": {
    "execution": {
     "iopub.execute_input": "2025-04-25T22:30:39.289552Z",
     "iopub.status.busy": "2025-04-25T22:30:39.289237Z",
     "iopub.status.idle": "2025-04-25T22:30:39.389039Z",
     "shell.execute_reply": "2025-04-25T22:30:39.388068Z"
    },
    "papermill": {
     "duration": 0.109348,
     "end_time": "2025-04-25T22:30:39.390911",
     "exception": false,
     "start_time": "2025-04-25T22:30:39.281563",
     "status": "completed"
    },
    "tags": []
   },
   "outputs": [],
   "source": [
    "vectorizer = load('/kaggle/input/preprocessing_models/other/default/1/models_for_preprocessing/tfidf_vectorizer.joblib')   # e.g., CountVectorizer or TfidfVectorizer\n",
    "scaler = load('/kaggle/input/preprocessing_models/other/default/1/models_for_preprocessing/scaler.joblib')           # e.g., StandardScaler or MinMaxScaler\n",
    "pca = load('/kaggle/input/preprocessing_models/other/default/1/models_for_preprocessing/pca.joblib')"
   ]
  },
  {
   "cell_type": "code",
   "execution_count": 9,
   "id": "d416789a",
   "metadata": {
    "execution": {
     "iopub.execute_input": "2025-04-25T22:30:39.410899Z",
     "iopub.status.busy": "2025-04-25T22:30:39.410498Z",
     "iopub.status.idle": "2025-04-25T22:30:39.436356Z",
     "shell.execute_reply": "2025-04-25T22:30:39.435106Z"
    },
    "papermill": {
     "duration": 0.040199,
     "end_time": "2025-04-25T22:30:39.438776",
     "exception": false,
     "start_time": "2025-04-25T22:30:39.398577",
     "status": "completed"
    },
    "tags": []
   },
   "outputs": [],
   "source": [
    "tfidf_matrix_cv = vectorizer.transform(X_cv['Ad Topic Line'])\n",
    "\n",
    "# Convert the result to a DataFrame for easy inspection\n",
    "tfidf_df_cv = pd.DataFrame(tfidf_matrix_cv.toarray().astype(int), columns=vectorizer.get_feature_names_out())\n",
    "X_cv.reset_index(inplace=True)\n",
    "X_cv.drop('index',axis=1,inplace=True)\n",
    "# Optionally, concatenate these features back to your original DataFrame\n",
    "X_cv = pd.concat([X_cv, tfidf_df_cv], axis=1)"
   ]
  },
  {
   "cell_type": "code",
   "execution_count": 10,
   "id": "84cedeca",
   "metadata": {
    "execution": {
     "iopub.execute_input": "2025-04-25T22:30:39.457936Z",
     "iopub.status.busy": "2025-04-25T22:30:39.457531Z",
     "iopub.status.idle": "2025-04-25T22:30:39.463148Z",
     "shell.execute_reply": "2025-04-25T22:30:39.462177Z"
    },
    "papermill": {
     "duration": 0.01536,
     "end_time": "2025-04-25T22:30:39.464676",
     "exception": false,
     "start_time": "2025-04-25T22:30:39.449316",
     "status": "completed"
    },
    "tags": []
   },
   "outputs": [],
   "source": [
    "X_cv=X_cv.drop('Ad Topic Line',axis=1)"
   ]
  },
  {
   "cell_type": "code",
   "execution_count": 11,
   "id": "219b19f4",
   "metadata": {
    "execution": {
     "iopub.execute_input": "2025-04-25T22:30:39.481523Z",
     "iopub.status.busy": "2025-04-25T22:30:39.481183Z",
     "iopub.status.idle": "2025-04-25T22:30:39.487024Z",
     "shell.execute_reply": "2025-04-25T22:30:39.485902Z"
    },
    "papermill": {
     "duration": 0.015275,
     "end_time": "2025-04-25T22:30:39.488483",
     "exception": false,
     "start_time": "2025-04-25T22:30:39.473208",
     "status": "completed"
    },
    "tags": []
   },
   "outputs": [],
   "source": [
    "X_cv.drop([\n",
    "    'Daily Internet Usage_squared',\n",
    "    'Daily Internet Usage_cubed',\n",
    "    'Daily Internet Usage_to_the_fourth_power',\n",
    "    'Daily Time Spent on Site_squared',\n",
    "    'Daily Time Spent on Site_cubed',\n",
    "    'Daily Time Spent on Site_to_the_fourth_power'\n",
    "],axis=1,inplace=True)"
   ]
  },
  {
   "cell_type": "code",
   "execution_count": 12,
   "id": "4d473fd3",
   "metadata": {
    "execution": {
     "iopub.execute_input": "2025-04-25T22:30:39.503953Z",
     "iopub.status.busy": "2025-04-25T22:30:39.503077Z",
     "iopub.status.idle": "2025-04-25T22:30:39.508149Z",
     "shell.execute_reply": "2025-04-25T22:30:39.507051Z"
    },
    "papermill": {
     "duration": 0.014587,
     "end_time": "2025-04-25T22:30:39.509836",
     "exception": false,
     "start_time": "2025-04-25T22:30:39.495249",
     "status": "completed"
    },
    "tags": []
   },
   "outputs": [],
   "source": [
    "not_cat_cols=[\n",
    "    'Daily Time Spent on Site',\n",
    "    'Daily Internet Usage',\n",
    "    'Area Income_negated_sqrt',\n",
    "    'Age_log_transformed'\n",
    "]"
   ]
  },
  {
   "cell_type": "code",
   "execution_count": 13,
   "id": "5c8140ff",
   "metadata": {
    "execution": {
     "iopub.execute_input": "2025-04-25T22:30:39.524778Z",
     "iopub.status.busy": "2025-04-25T22:30:39.524231Z",
     "iopub.status.idle": "2025-04-25T22:30:39.528828Z",
     "shell.execute_reply": "2025-04-25T22:30:39.527921Z"
    },
    "papermill": {
     "duration": 0.013837,
     "end_time": "2025-04-25T22:30:39.530446",
     "exception": false,
     "start_time": "2025-04-25T22:30:39.516609",
     "status": "completed"
    },
    "tags": []
   },
   "outputs": [],
   "source": [
    "cat_cols=list(set(X_cv.columns)-set(not_cat_cols))"
   ]
  },
  {
   "cell_type": "code",
   "execution_count": 14,
   "id": "7462274a",
   "metadata": {
    "execution": {
     "iopub.execute_input": "2025-04-25T22:30:39.545078Z",
     "iopub.status.busy": "2025-04-25T22:30:39.544731Z",
     "iopub.status.idle": "2025-04-25T22:30:39.551507Z",
     "shell.execute_reply": "2025-04-25T22:30:39.550585Z"
    },
    "papermill": {
     "duration": 0.016129,
     "end_time": "2025-04-25T22:30:39.553267",
     "exception": false,
     "start_time": "2025-04-25T22:30:39.537138",
     "status": "completed"
    },
    "tags": []
   },
   "outputs": [],
   "source": [
    "transformed_not_cal_data_cv=scaler.transform(X_cv[not_cat_cols])"
   ]
  },
  {
   "cell_type": "code",
   "execution_count": 15,
   "id": "62d8ff2f",
   "metadata": {
    "execution": {
     "iopub.execute_input": "2025-04-25T22:30:39.568432Z",
     "iopub.status.busy": "2025-04-25T22:30:39.568109Z",
     "iopub.status.idle": "2025-04-25T22:30:39.574737Z",
     "shell.execute_reply": "2025-04-25T22:30:39.573766Z"
    },
    "papermill": {
     "duration": 0.01593,
     "end_time": "2025-04-25T22:30:39.576319",
     "exception": false,
     "start_time": "2025-04-25T22:30:39.560389",
     "status": "completed"
    },
    "tags": []
   },
   "outputs": [],
   "source": [
    "scaled_X_cv=pd.concat([pd.DataFrame(transformed_not_cal_data_cv,columns=not_cat_cols),X_cv[cat_cols]],axis=1)"
   ]
  },
  {
   "cell_type": "code",
   "execution_count": 16,
   "id": "00a3db17",
   "metadata": {
    "execution": {
     "iopub.execute_input": "2025-04-25T22:30:39.591525Z",
     "iopub.status.busy": "2025-04-25T22:30:39.591203Z",
     "iopub.status.idle": "2025-04-25T22:30:39.602587Z",
     "shell.execute_reply": "2025-04-25T22:30:39.601669Z"
    },
    "papermill": {
     "duration": 0.02129,
     "end_time": "2025-04-25T22:30:39.604380",
     "exception": false,
     "start_time": "2025-04-25T22:30:39.583090",
     "status": "completed"
    },
    "tags": []
   },
   "outputs": [],
   "source": [
    "pca_data_cv=pca.transform(scaled_X_cv[['Daily Time Spent on Site','Daily Internet Usage']])"
   ]
  },
  {
   "cell_type": "code",
   "execution_count": 17,
   "id": "c6ed3010",
   "metadata": {
    "execution": {
     "iopub.execute_input": "2025-04-25T22:30:39.619288Z",
     "iopub.status.busy": "2025-04-25T22:30:39.618953Z",
     "iopub.status.idle": "2025-04-25T22:30:39.625538Z",
     "shell.execute_reply": "2025-04-25T22:30:39.624671Z"
    },
    "papermill": {
     "duration": 0.015849,
     "end_time": "2025-04-25T22:30:39.627029",
     "exception": false,
     "start_time": "2025-04-25T22:30:39.611180",
     "status": "completed"
    },
    "tags": []
   },
   "outputs": [],
   "source": [
    "X_cv=pd.concat([pd.Series(pca_data_cv.flatten(),name='pca_data'),scaled_X_cv.drop(['Daily Time Spent on Site','Daily Internet Usage'],axis=1)],axis=1)"
   ]
  },
  {
   "cell_type": "code",
   "execution_count": 18,
   "id": "62c952e9",
   "metadata": {
    "execution": {
     "iopub.execute_input": "2025-04-25T22:30:39.641731Z",
     "iopub.status.busy": "2025-04-25T22:30:39.641424Z",
     "iopub.status.idle": "2025-04-25T22:30:39.648542Z",
     "shell.execute_reply": "2025-04-25T22:30:39.647486Z"
    },
    "papermill": {
     "duration": 0.016483,
     "end_time": "2025-04-25T22:30:39.650271",
     "exception": false,
     "start_time": "2025-04-25T22:30:39.633788",
     "status": "completed"
    },
    "tags": []
   },
   "outputs": [],
   "source": [
    "X_cv['pca_data_squared']=X_cv['pca_data']**2\n",
    "X_cv['pca_data_cubed']=X_cv['pca_data']**3\n",
    "X_cv['pca_data_to_the_fourth_power']=X_cv['pca_data']**4"
   ]
  },
  {
   "cell_type": "code",
   "execution_count": 19,
   "id": "078e60f2",
   "metadata": {
    "execution": {
     "iopub.execute_input": "2025-04-25T22:30:39.665386Z",
     "iopub.status.busy": "2025-04-25T22:30:39.665071Z",
     "iopub.status.idle": "2025-04-25T22:30:39.670901Z",
     "shell.execute_reply": "2025-04-25T22:30:39.669976Z"
    },
    "papermill": {
     "duration": 0.015226,
     "end_time": "2025-04-25T22:30:39.672457",
     "exception": false,
     "start_time": "2025-04-25T22:30:39.657231",
     "status": "completed"
    },
    "tags": []
   },
   "outputs": [],
   "source": [
    "X_cv=X_cv[X_train.columns]"
   ]
  },
  {
   "cell_type": "code",
   "execution_count": 20,
   "id": "89751250",
   "metadata": {
    "execution": {
     "iopub.execute_input": "2025-04-25T22:30:39.687215Z",
     "iopub.status.busy": "2025-04-25T22:30:39.686839Z",
     "iopub.status.idle": "2025-04-25T22:30:39.712422Z",
     "shell.execute_reply": "2025-04-25T22:30:39.711444Z"
    },
    "papermill": {
     "duration": 0.034658,
     "end_time": "2025-04-25T22:30:39.714018",
     "exception": false,
     "start_time": "2025-04-25T22:30:39.679360",
     "status": "completed"
    },
    "tags": []
   },
   "outputs": [
    {
     "name": "stdout",
     "output_type": "stream",
     "text": [
      "Accuracy Score:  96.63\n",
      "Precision Score:  98.25\n",
      "Recall Score:  94.92\n"
     ]
    }
   ],
   "source": [
    "print(\"Accuracy Score: \",np.round(accuracy_score(Y_train,model.predict(X_train))*100,2))\n",
    "print(\"Precision Score: \",np.round(precision_score(Y_train,model.predict(X_train))*100,2))\n",
    "print(\"Recall Score: \",np.round(recall_score(Y_train,model.predict(X_train))*100,2))"
   ]
  },
  {
   "cell_type": "code",
   "execution_count": 21,
   "id": "fb3f1e47",
   "metadata": {
    "execution": {
     "iopub.execute_input": "2025-04-25T22:30:39.728987Z",
     "iopub.status.busy": "2025-04-25T22:30:39.728643Z",
     "iopub.status.idle": "2025-04-25T22:30:39.754048Z",
     "shell.execute_reply": "2025-04-25T22:30:39.752938Z"
    },
    "papermill": {
     "duration": 0.034681,
     "end_time": "2025-04-25T22:30:39.755572",
     "exception": false,
     "start_time": "2025-04-25T22:30:39.720891",
     "status": "completed"
    },
    "tags": []
   },
   "outputs": [
    {
     "name": "stdout",
     "output_type": "stream",
     "text": [
      "Accuracy Score:  96.97\n",
      "Precision Score:  97.06\n",
      "Recall Score:  97.06\n"
     ]
    }
   ],
   "source": [
    "print(\"Accuracy Score: \",np.round(accuracy_score(Y_cv,model.predict(X_cv))*100,2))\n",
    "print(\"Precision Score: \",np.round(precision_score(Y_cv,model.predict(X_cv))*100,2))\n",
    "print(\"Recall Score: \",np.round(recall_score(Y_cv,model.predict(X_cv))*100,2))"
   ]
  },
  {
   "cell_type": "markdown",
   "id": "54c686a9",
   "metadata": {
    "papermill": {
     "duration": 0.074819,
     "end_time": "2025-04-25T22:30:39.837208",
     "exception": false,
     "start_time": "2025-04-25T22:30:39.762389",
     "status": "completed"
    },
    "tags": []
   },
   "source": [
    "# Testing Data"
   ]
  },
  {
   "cell_type": "code",
   "execution_count": 22,
   "id": "f61f27c4",
   "metadata": {
    "execution": {
     "iopub.execute_input": "2025-04-25T22:30:39.852761Z",
     "iopub.status.busy": "2025-04-25T22:30:39.852461Z",
     "iopub.status.idle": "2025-04-25T22:30:39.863565Z",
     "shell.execute_reply": "2025-04-25T22:30:39.862516Z"
    },
    "papermill": {
     "duration": 0.021237,
     "end_time": "2025-04-25T22:30:39.865616",
     "exception": false,
     "start_time": "2025-04-25T22:30:39.844379",
     "status": "completed"
    },
    "tags": []
   },
   "outputs": [],
   "source": [
    "tfidf_matrix_test = vectorizer.transform(X_test['Ad Topic Line'])\n",
    "\n",
    "# Convert the result to a DataFrame for easy inspection\n",
    "tfidf_df_test = pd.DataFrame(tfidf_matrix_test.toarray().astype(int), columns=vectorizer.get_feature_names_out())\n",
    "X_test.reset_index(inplace=True)\n",
    "X_test.drop('index',axis=1,inplace=True)\n",
    "# Optionally, concatenate these features back to your original DataFrame\n",
    "X_test = pd.concat([X_test, tfidf_df_test], axis=1)"
   ]
  },
  {
   "cell_type": "code",
   "execution_count": 23,
   "id": "a7009b7d",
   "metadata": {
    "execution": {
     "iopub.execute_input": "2025-04-25T22:30:39.881080Z",
     "iopub.status.busy": "2025-04-25T22:30:39.880553Z",
     "iopub.status.idle": "2025-04-25T22:30:39.886075Z",
     "shell.execute_reply": "2025-04-25T22:30:39.885114Z"
    },
    "papermill": {
     "duration": 0.01493,
     "end_time": "2025-04-25T22:30:39.887571",
     "exception": false,
     "start_time": "2025-04-25T22:30:39.872641",
     "status": "completed"
    },
    "tags": []
   },
   "outputs": [],
   "source": [
    "X_test=X_test.drop('Ad Topic Line',axis=1)"
   ]
  },
  {
   "cell_type": "code",
   "execution_count": 24,
   "id": "67b14042",
   "metadata": {
    "execution": {
     "iopub.execute_input": "2025-04-25T22:30:39.903175Z",
     "iopub.status.busy": "2025-04-25T22:30:39.902311Z",
     "iopub.status.idle": "2025-04-25T22:30:39.908817Z",
     "shell.execute_reply": "2025-04-25T22:30:39.907386Z"
    },
    "papermill": {
     "duration": 0.01611,
     "end_time": "2025-04-25T22:30:39.910577",
     "exception": false,
     "start_time": "2025-04-25T22:30:39.894467",
     "status": "completed"
    },
    "tags": []
   },
   "outputs": [],
   "source": [
    "X_test.drop([\n",
    "    'Daily Internet Usage_squared',\n",
    "    'Daily Internet Usage_cubed',\n",
    "    'Daily Internet Usage_to_the_fourth_power',\n",
    "    'Daily Time Spent on Site_squared',\n",
    "    'Daily Time Spent on Site_cubed',\n",
    "    'Daily Time Spent on Site_to_the_fourth_power'\n",
    "],axis=1,inplace=True)"
   ]
  },
  {
   "cell_type": "code",
   "execution_count": 25,
   "id": "bf25fd13",
   "metadata": {
    "execution": {
     "iopub.execute_input": "2025-04-25T22:30:39.925849Z",
     "iopub.status.busy": "2025-04-25T22:30:39.925555Z",
     "iopub.status.idle": "2025-04-25T22:30:39.930337Z",
     "shell.execute_reply": "2025-04-25T22:30:39.929359Z"
    },
    "papermill": {
     "duration": 0.014471,
     "end_time": "2025-04-25T22:30:39.932100",
     "exception": false,
     "start_time": "2025-04-25T22:30:39.917629",
     "status": "completed"
    },
    "tags": []
   },
   "outputs": [],
   "source": [
    "not_cat_cols=[\n",
    "    'Daily Time Spent on Site',\n",
    "    'Daily Internet Usage',\n",
    "    'Area Income_negated_sqrt',\n",
    "    'Age_log_transformed'\n",
    "]"
   ]
  },
  {
   "cell_type": "code",
   "execution_count": 26,
   "id": "533e8c02",
   "metadata": {
    "execution": {
     "iopub.execute_input": "2025-04-25T22:30:39.947900Z",
     "iopub.status.busy": "2025-04-25T22:30:39.947494Z",
     "iopub.status.idle": "2025-04-25T22:30:39.952116Z",
     "shell.execute_reply": "2025-04-25T22:30:39.951276Z"
    },
    "papermill": {
     "duration": 0.014423,
     "end_time": "2025-04-25T22:30:39.953673",
     "exception": false,
     "start_time": "2025-04-25T22:30:39.939250",
     "status": "completed"
    },
    "tags": []
   },
   "outputs": [],
   "source": [
    "cat_cols=list(set(X_test.columns)-set(not_cat_cols))"
   ]
  },
  {
   "cell_type": "code",
   "execution_count": 27,
   "id": "78241f03",
   "metadata": {
    "execution": {
     "iopub.execute_input": "2025-04-25T22:30:39.968780Z",
     "iopub.status.busy": "2025-04-25T22:30:39.968496Z",
     "iopub.status.idle": "2025-04-25T22:30:39.975315Z",
     "shell.execute_reply": "2025-04-25T22:30:39.974540Z"
    },
    "papermill": {
     "duration": 0.015904,
     "end_time": "2025-04-25T22:30:39.976737",
     "exception": false,
     "start_time": "2025-04-25T22:30:39.960833",
     "status": "completed"
    },
    "tags": []
   },
   "outputs": [],
   "source": [
    "transformed_not_cal_data_test=scaler.transform(X_test[not_cat_cols])"
   ]
  },
  {
   "cell_type": "code",
   "execution_count": 28,
   "id": "8f749121",
   "metadata": {
    "execution": {
     "iopub.execute_input": "2025-04-25T22:30:39.991997Z",
     "iopub.status.busy": "2025-04-25T22:30:39.991620Z",
     "iopub.status.idle": "2025-04-25T22:30:39.998969Z",
     "shell.execute_reply": "2025-04-25T22:30:39.997863Z"
    },
    "papermill": {
     "duration": 0.016855,
     "end_time": "2025-04-25T22:30:40.000706",
     "exception": false,
     "start_time": "2025-04-25T22:30:39.983851",
     "status": "completed"
    },
    "tags": []
   },
   "outputs": [],
   "source": [
    "scaled_X_test=pd.concat([pd.DataFrame(transformed_not_cal_data_test,columns=not_cat_cols),X_test[cat_cols]],axis=1)"
   ]
  },
  {
   "cell_type": "code",
   "execution_count": 29,
   "id": "d039f16c",
   "metadata": {
    "execution": {
     "iopub.execute_input": "2025-04-25T22:30:40.016804Z",
     "iopub.status.busy": "2025-04-25T22:30:40.015786Z",
     "iopub.status.idle": "2025-04-25T22:30:40.022749Z",
     "shell.execute_reply": "2025-04-25T22:30:40.022067Z"
    },
    "papermill": {
     "duration": 0.016444,
     "end_time": "2025-04-25T22:30:40.024433",
     "exception": false,
     "start_time": "2025-04-25T22:30:40.007989",
     "status": "completed"
    },
    "tags": []
   },
   "outputs": [],
   "source": [
    "pca_data_test=pca.transform(scaled_X_test[['Daily Time Spent on Site','Daily Internet Usage']])"
   ]
  },
  {
   "cell_type": "code",
   "execution_count": 30,
   "id": "c5c79802",
   "metadata": {
    "execution": {
     "iopub.execute_input": "2025-04-25T22:30:40.039754Z",
     "iopub.status.busy": "2025-04-25T22:30:40.039455Z",
     "iopub.status.idle": "2025-04-25T22:30:40.046653Z",
     "shell.execute_reply": "2025-04-25T22:30:40.045580Z"
    },
    "papermill": {
     "duration": 0.016937,
     "end_time": "2025-04-25T22:30:40.048381",
     "exception": false,
     "start_time": "2025-04-25T22:30:40.031444",
     "status": "completed"
    },
    "tags": []
   },
   "outputs": [],
   "source": [
    "X_test=pd.concat([pd.Series(pca_data_test.flatten(),name='pca_data'),scaled_X_test.drop(['Daily Time Spent on Site','Daily Internet Usage'],axis=1)],axis=1)"
   ]
  },
  {
   "cell_type": "code",
   "execution_count": 31,
   "id": "d17b0e08",
   "metadata": {
    "execution": {
     "iopub.execute_input": "2025-04-25T22:30:40.064091Z",
     "iopub.status.busy": "2025-04-25T22:30:40.063672Z",
     "iopub.status.idle": "2025-04-25T22:30:40.071551Z",
     "shell.execute_reply": "2025-04-25T22:30:40.070589Z"
    },
    "papermill": {
     "duration": 0.017786,
     "end_time": "2025-04-25T22:30:40.073226",
     "exception": false,
     "start_time": "2025-04-25T22:30:40.055440",
     "status": "completed"
    },
    "tags": []
   },
   "outputs": [],
   "source": [
    "X_test['pca_data_squared']=X_test['pca_data']**2\n",
    "X_test['pca_data_cubed']=X_test['pca_data']**3\n",
    "X_test['pca_data_to_the_fourth_power']=X_test['pca_data']**4"
   ]
  },
  {
   "cell_type": "code",
   "execution_count": 32,
   "id": "d4a4f07f",
   "metadata": {
    "execution": {
     "iopub.execute_input": "2025-04-25T22:30:40.088396Z",
     "iopub.status.busy": "2025-04-25T22:30:40.088078Z",
     "iopub.status.idle": "2025-04-25T22:30:40.093620Z",
     "shell.execute_reply": "2025-04-25T22:30:40.092622Z"
    },
    "papermill": {
     "duration": 0.015062,
     "end_time": "2025-04-25T22:30:40.095379",
     "exception": false,
     "start_time": "2025-04-25T22:30:40.080317",
     "status": "completed"
    },
    "tags": []
   },
   "outputs": [],
   "source": [
    "X_test=X_test[X_train.columns]"
   ]
  },
  {
   "cell_type": "code",
   "execution_count": 33,
   "id": "0f88e2ed",
   "metadata": {
    "execution": {
     "iopub.execute_input": "2025-04-25T22:30:40.110713Z",
     "iopub.status.busy": "2025-04-25T22:30:40.110439Z",
     "iopub.status.idle": "2025-04-25T22:30:40.137303Z",
     "shell.execute_reply": "2025-04-25T22:30:40.136036Z"
    },
    "papermill": {
     "duration": 0.036416,
     "end_time": "2025-04-25T22:30:40.139053",
     "exception": false,
     "start_time": "2025-04-25T22:30:40.102637",
     "status": "completed"
    },
    "tags": []
   },
   "outputs": [
    {
     "name": "stdout",
     "output_type": "stream",
     "text": [
      "Accuracy Score:  97.98\n",
      "Precision Score:  97.85\n",
      "Recall Score:  97.85\n"
     ]
    }
   ],
   "source": [
    "print(\"Accuracy Score: \",np.round(accuracy_score(Y_test,model.predict(X_test))*100,2))\n",
    "print(\"Precision Score: \",np.round(precision_score(Y_test,model.predict(X_test))*100,2))\n",
    "print(\"Recall Score: \",np.round(recall_score(Y_test,model.predict(X_test))*100,2))"
   ]
  },
  {
   "cell_type": "code",
   "execution_count": null,
   "id": "ec8780d6",
   "metadata": {
    "papermill": {
     "duration": 0.006891,
     "end_time": "2025-04-25T22:30:40.153458",
     "exception": false,
     "start_time": "2025-04-25T22:30:40.146567",
     "status": "completed"
    },
    "tags": []
   },
   "outputs": [],
   "source": []
  },
  {
   "cell_type": "code",
   "execution_count": null,
   "id": "97124073",
   "metadata": {
    "papermill": {
     "duration": 0.006578,
     "end_time": "2025-04-25T22:30:40.166893",
     "exception": false,
     "start_time": "2025-04-25T22:30:40.160315",
     "status": "completed"
    },
    "tags": []
   },
   "outputs": [],
   "source": []
  },
  {
   "cell_type": "code",
   "execution_count": null,
   "id": "92f7be1d",
   "metadata": {
    "papermill": {
     "duration": 0.006775,
     "end_time": "2025-04-25T22:30:40.180453",
     "exception": false,
     "start_time": "2025-04-25T22:30:40.173678",
     "status": "completed"
    },
    "tags": []
   },
   "outputs": [],
   "source": []
  },
  {
   "cell_type": "code",
   "execution_count": null,
   "id": "3bc7cfa4",
   "metadata": {
    "papermill": {
     "duration": 0.006542,
     "end_time": "2025-04-25T22:30:40.193979",
     "exception": false,
     "start_time": "2025-04-25T22:30:40.187437",
     "status": "completed"
    },
    "tags": []
   },
   "outputs": [],
   "source": []
  },
  {
   "cell_type": "code",
   "execution_count": null,
   "id": "f874dd37",
   "metadata": {
    "papermill": {
     "duration": 0.00655,
     "end_time": "2025-04-25T22:30:40.207309",
     "exception": false,
     "start_time": "2025-04-25T22:30:40.200759",
     "status": "completed"
    },
    "tags": []
   },
   "outputs": [],
   "source": []
  },
  {
   "cell_type": "code",
   "execution_count": null,
   "id": "f94b3cac",
   "metadata": {
    "papermill": {
     "duration": 0.006605,
     "end_time": "2025-04-25T22:30:40.220747",
     "exception": false,
     "start_time": "2025-04-25T22:30:40.214142",
     "status": "completed"
    },
    "tags": []
   },
   "outputs": [],
   "source": []
  },
  {
   "cell_type": "code",
   "execution_count": null,
   "id": "1cfd972f",
   "metadata": {
    "papermill": {
     "duration": 0.00654,
     "end_time": "2025-04-25T22:30:40.234122",
     "exception": false,
     "start_time": "2025-04-25T22:30:40.227582",
     "status": "completed"
    },
    "tags": []
   },
   "outputs": [],
   "source": []
  },
  {
   "cell_type": "code",
   "execution_count": null,
   "id": "543e1f40",
   "metadata": {
    "papermill": {
     "duration": 0.008142,
     "end_time": "2025-04-25T22:30:40.249246",
     "exception": false,
     "start_time": "2025-04-25T22:30:40.241104",
     "status": "completed"
    },
    "tags": []
   },
   "outputs": [],
   "source": []
  }
 ],
 "metadata": {
  "kaggle": {
   "accelerator": "none",
   "dataSources": [
    {
     "datasetId": 7253404,
     "sourceId": 11569298,
     "sourceType": "datasetVersion"
    },
    {
     "isSourceIdPinned": true,
     "modelId": 318642,
     "modelInstanceId": 298034,
     "sourceId": 357651,
     "sourceType": "modelInstanceVersion"
    }
   ],
   "dockerImageVersionId": 31012,
   "isGpuEnabled": false,
   "isInternetEnabled": true,
   "language": "python",
   "sourceType": "notebook"
  },
  "kernelspec": {
   "display_name": "Python 3",
   "language": "python",
   "name": "python3"
  },
  "language_info": {
   "codemirror_mode": {
    "name": "ipython",
    "version": 3
   },
   "file_extension": ".py",
   "mimetype": "text/x-python",
   "name": "python",
   "nbconvert_exporter": "python",
   "pygments_lexer": "ipython3",
   "version": "3.11.11"
  },
  "papermill": {
   "default_parameters": {},
   "duration": 10.758671,
   "end_time": "2025-04-25T22:30:40.977446",
   "environment_variables": {},
   "exception": null,
   "input_path": "__notebook__.ipynb",
   "output_path": "__notebook__.ipynb",
   "parameters": {},
   "start_time": "2025-04-25T22:30:30.218775",
   "version": "2.6.0"
  }
 },
 "nbformat": 4,
 "nbformat_minor": 5
}
